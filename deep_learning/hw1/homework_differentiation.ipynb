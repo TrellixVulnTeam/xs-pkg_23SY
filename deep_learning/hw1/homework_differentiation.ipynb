{
 "cells": [
  {
   "cell_type": "markdown",
   "metadata": {},
   "source": [
    "# Homework 1: Differentiation"
   ]
  },
  {
   "cell_type": "markdown",
   "metadata": {},
   "source": [
    "Since it easy to google every task please please please try to undestand what's going on. The \"just answer\" thing will be not counted, make sure to present derivation of your solution. It is absolutely OK if you found an answer on web then just exercise in $\\LaTeX$ copying it into here. A good way to derive solutions for these tasks is to derive it for single elements and then generalize to the resulting matrix/vector."
   ]
  },
  {
   "cell_type": "markdown",
   "metadata": {},
   "source": [
    "Useful links: \n",
    "[1](http://www.machinelearning.ru/wiki/images/2/2a/Matrix-Gauss.pdf)\n",
    "[2](http://www.atmos.washington.edu/~dennis/MatrixCalculus.pdf)\n",
    "[3](http://cal.cs.illinois.edu/~johannes/research/matrix%20calculus.pdf)"
   ]
  },
  {
   "cell_type": "markdown",
   "metadata": {},
   "source": [
    "## ex. 1"
   ]
  },
  {
   "cell_type": "markdown",
   "metadata": {},
   "source": [
    "Scalar w.r.t. vector:\n",
    "$$  \n",
    "y = c^Tx,  \\quad x \\in \\mathbb{R}^N \n",
    "$$"
   ]
  },
  {
   "cell_type": "markdown",
   "metadata": {},
   "source": [
    "$$\n",
    "\\frac{dy}{dx} = \n",
    "$$ "
   ]
  },
  {
   "cell_type": "markdown",
   "metadata": {},
   "source": [
    "Assuming that $x$ is a column vector size of $N$ and $c$ is a likewise column vector, we can rewrite $y = c^T x$:\n",
    "\n",
    "$$ y = c_1 x_1 + c_2 x_2 + ... + c_N x_N $$\n",
    "\n",
    "Since $\\frac{dy}{dx}$ is a vector size of $N$:\n",
    "\n",
    "$$ \\frac{dy}{dx} = \n",
    "\\begin{bmatrix} \n",
    "\\frac{\\partial{y}}{x_1} & \\dots & \\frac{\\partial{y}}{x_N}\n",
    "\\end{bmatrix} $$\n",
    "\n",
    "We can simply put the unrolled statement for $y$ and derive final answer:\n",
    "\n",
    "$$ \\frac{dy}{dx} = \n",
    "\\begin{bmatrix} \n",
    "c_1 \\dots c_N \n",
    "\\end{bmatrix} = \\boxed{c^T} $$"
   ]
  },
  {
   "cell_type": "markdown",
   "metadata": {},
   "source": [
    "## ex. 2"
   ]
  },
  {
   "cell_type": "markdown",
   "metadata": {},
   "source": [
    "Vector w.r.t. vector:\n",
    "$$ y = \\sum_{j=1}^{N} cx^T \\quad c \\in \\mathbb{R}^{M} ,x \\in \\mathbb{R}^{N}, cx^T \\in \\mathbb{R}^{M \\times N} $$ "
   ]
  },
  {
   "cell_type": "markdown",
   "metadata": {},
   "source": [
    "$$\n",
    "\\frac{dy}{dx} =\n",
    "$$"
   ]
  },
  {
   "cell_type": "markdown",
   "metadata": {},
   "source": [
    "Assuming $c$ to be a column vector size of $M$, $x$ to be a column vector size of $N$:\n",
    "\n",
    "$$cx^T = \\begin{bmatrix}\n",
    "c_1 x_1 & \\dots & c_1 x_N \\\\\n",
    "\\vdots  & \\ddots & \\vdots \\\\\n",
    "c_M x_1 & \\dots & c_M x_N \n",
    "\\end{bmatrix} \\implies y = \\begin{bmatrix}\n",
    "c_1 \\sum_{i=1}^N x_i \\\\\n",
    "\\vdots \\\\\n",
    "c_M \\sum_{i=1}^N x_i \\\\\n",
    "\\end{bmatrix}\n",
    "$$\n",
    "\n",
    "Finally:\n",
    "\n",
    "$$ \\frac{dy}{dx} = \n",
    "\\begin{bmatrix}\n",
    "\\frac{\\partial{y_1}}{\\partial{x_1}} & \\dots & \\frac{\\partial{y_1}}{\\partial{x_N}} \\\\\n",
    "\\vdots & \\ddots & \\vdots \\\\\n",
    "\\frac{\\partial{y_M}}{\\partial{x_1}} & \\dots & \\frac{\\partial{y_M}}{\\partial{x_N}} \n",
    "\\end{bmatrix} =\n",
    "\\begin{bmatrix}\n",
    "c_1 & \\dots & c_1 \\\\\n",
    "\\vdots & \\ddots & \\vdots \\\\\n",
    "c_M & \\dots & c_M\n",
    "\\end{bmatrix} = \\boxed{ c \\boldsymbol{1}^T }\n",
    "$$"
   ]
  },
  {
   "cell_type": "markdown",
   "metadata": {},
   "source": [
    "## ex. 3"
   ]
  },
  {
   "cell_type": "markdown",
   "metadata": {},
   "source": [
    "Vector w.r.t. vector:\n",
    "$$  \n",
    "y = x x^T x , x \\in \\mathbb{R}^{N}\n",
    "$$\n",
    "\n",
    "$$\n",
    "\\frac{dy}{dx} =\n",
    "$$"
   ]
  },
  {
   "cell_type": "markdown",
   "metadata": {},
   "source": [
    "Assuming that $x$ is a column vector size of $N$, let's break it down step by step:\n",
    "\n",
    "$$ xx^T =\n",
    "\\begin{bmatrix}\n",
    "x_1 x_1 & \\dots & x_1 x_N \\\\\n",
    "\\vdots  & \\ddots & \\dots \\\\\n",
    "x_N x_1 & \\dots & x_N x_N \n",
    "\\end{bmatrix}\n",
    "$$\n",
    "\n",
    "Multiply it by $x$ from the left side:\n",
    "\n",
    "$$ xx^Tx =\n",
    "\\begin{bmatrix}\n",
    "x_1 \\sum_{i=1}^N x_i^2 \\\\\n",
    "\\vdots \\\\\n",
    "x_N \\sum_{i=1}^N x_i^2 \n",
    "\\end{bmatrix}\n",
    "$$\n",
    "\n",
    "Let's write out the $\\frac{d{y}}{d{x}}$:\n",
    "$$\n",
    "\\frac{d{y}}{d{x}} = \n",
    "\\begin{bmatrix}\n",
    "\\frac{\\partial{y_1}}{\\partial{x_1}} & \\dots & \\frac{\\partial{y_1}}{\\partial{x_N}} \\\\\n",
    "\\vdots & \\ddots & \\vdots \\\\\n",
    "\\frac{\\partial{y_N}}{\\partial{x_1}} & \\dots & \\frac{\\partial{y_N}}{\\partial{x_N}} \n",
    "\\end{bmatrix} =\n",
    "\\begin{bmatrix}\n",
    "2x_1^2 + \\sum_{i=1}^N x_i^2 & \\dots & 2x_1 x_N \\\\\n",
    "\\vdots & \\ddots & \\vdots \\\\\n",
    "2x_N x_1 & \\dots & 2x_N^2 + \\sum_{i=1}^N x_i^2\n",
    "\\end{bmatrix} = \\boxed{x^T x I + 2xx^T}\n",
    "$$"
   ]
  },
  {
   "cell_type": "markdown",
   "metadata": {},
   "source": [
    "## ex. 4"
   ]
  },
  {
   "cell_type": "markdown",
   "metadata": {},
   "source": [
    "Derivatives for the parameters of the Dense layer:\n",
    "\n",
    "***Given :***  $$Y = XW, Y \\in \\mathbb{R}^{N \\times OUT}, X \\in \\mathbb{R}^{N \\times IN}, W \\in \\mathbb{R}^{IN \\times OUT} $$ \n",
    "\n",
    "The derivative of the hypothetic loss function w.r.t. to $Y$ is known: $\\Delta Y  \\in \\mathbb{R}^{N \\times OUT}$\n",
    "\n",
    "***Task :*** Please, derive the gradients of the loss w.r.t the weight matrix $W$: $\\Delta W  \\in \\mathbb{R}^{IN \\times OUT}$. Use the chain rule. First, please, derive each element of the $\\Delta W$, then generalize to the matrix form.\n",
    " \n",
    "Useful link: http://cs231n.stanford.edu/vecDerivs.pdf\n"
   ]
  },
  {
   "cell_type": "markdown",
   "metadata": {},
   "source": [
    "As it is advised in the handbook, let's suppose $X$ and $Y$ to be a row vectors size of $1\\times IN$ and $1\\times OUT$ respectively:\n",
    "\n",
    "$$ \n",
    "y_i = \\sum_{j=1}^{IN} x_j W_{ji}\n",
    "$$\n",
    "\n",
    "Here we get \n",
    "$$\n",
    "\\frac{\\partial{y_i}}{\\partial{W_{ji}}} = x_j $$\n",
    "\n",
    "Now let's stack $N$ samples in $X$ where each sample is size of $1\\times IN$:\n",
    "\n",
    "$$\n",
    "y_{ik} = \\sum{j=1}^{IN} x_{ij} W_{jk} $$\n",
    "\n",
    "Then:\n",
    "$$\n",
    "\\frac{\\partial{y_{ik}}}{\\partial{W_{jk}}} = x_{ij} \\implies \\boxed{\\frac{dY}{dW} = X }\n",
    "$$\n",
    "\n",
    "Finally:\n",
    "\n",
    "$$\\boxed{\\Delta W = X^T \\Delta Y}$$\n"
   ]
  }
 ],
 "metadata": {
  "kernelspec": {
   "display_name": "Python 3",
   "language": "python",
   "name": "python3"
  },
  "language_info": {
   "codemirror_mode": {
    "name": "ipython",
    "version": 3
   },
   "file_extension": ".py",
   "mimetype": "text/x-python",
   "name": "python",
   "nbconvert_exporter": "python",
   "pygments_lexer": "ipython3",
   "version": "3.6.8"
  }
 },
 "nbformat": 4,
 "nbformat_minor": 2
}
