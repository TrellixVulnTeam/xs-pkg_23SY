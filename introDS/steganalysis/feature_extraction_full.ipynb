{
 "cells": [
  {
   "cell_type": "markdown",
   "metadata": {},
   "source": [
    "# Feature extraction"
   ]
  },
  {
   "cell_type": "markdown",
   "metadata": {},
   "source": [
    "## 1. Prerequisites:"
   ]
  },
  {
   "cell_type": "markdown",
   "metadata": {},
   "source": [
    "* [Download](http://alaska.utt.fr/ALASKA_training_set_jpg5_cover.zip) set of coverimages and put to the **ad_cover** directory which is in the same folder where current notebook is;\n",
    "* Create **ad_stego** directory in the same folder where current notebook is."
   ]
  },
  {
   "cell_type": "markdown",
   "metadata": {},
   "source": [
    "## 2. Prepare stegoimages using [nsF5 steganographic system](http://www.ws.binghamton.edu/fridrich/Research/fraction03.pdf)"
   ]
  },
  {
   "cell_type": "markdown",
   "metadata": {},
   "source": [
    "Note: here matlab script code is used as it is wide-used tool in steganography and steganalysis for prototyping due to existence of convenient library for operating with JPG images and rich set of examples"
   ]
  },
  {
   "cell_type": "code",
   "execution_count": null,
   "metadata": {},
   "outputs": [],
   "source": [
    "% ========================================================================\n",
    "COVER_DIR = 'ad_cover/';\n",
    "STEGO_DIR = 'ad_stego/';\n",
    "% ========================================================================\n",
    "files = dir(strcat(COVER_DIR, '*.jpg'));\n",
    "% Take first 1000 pictures from the dataset\n",
    "pic_num = 1000;\n",
    "total_payload = 20000;\n",
    "embed_rate = 0.05;\n",
    "for k=1:pic_num\n",
    "    filename = strcat(COVER_DIR, files(k).name);\n",
    "    [filepath, name, ext] = fileparts(filename);\n",
    "    dct_coeff = jpeg_read(filename);\n",
    "    stego_coeff = nsf5_simulation_cste_payload_color(dct_coeff , total_payload, embed_rate, cputime);\n",
    "    jpeg_write(stego_coeff, [STEGO_DIR name '.jpg']);\n",
    "    disp(name);\n",
    "end"
   ]
  },
  {
   "cell_type": "markdown",
   "metadata": {},
   "source": [
    "## 3. Extract features using intrablock and interblock correlation"
   ]
  },
  {
   "cell_type": "markdown",
   "metadata": {},
   "source": [
    "This method in details is well explained in [original article](https://ieeexplore.ieee.org/stamp/stamp.jsp?arnumber=4542096). Here we have the main steps:\n",
    "1. Extract intrablock features (transitional probabilities for vertical, horizontal, diagonal and minor diagonal shifts in difference matrix):\n",
    "\n",
    "\\begin{equation*}\n",
    "N_{feat\\_intra} = TPM(V) + TPM(H) + TPM(MD) + TPM(mD) = 334,\\ T = 4\n",
    "\\end{equation*}\n",
    "2. Extract interblock features (transitional probabilities for vertical and horizontal shifts in difference mode averaged matrix):\n",
    "\n",
    "\\begin{equation*}\n",
    "N_{feat\\_inter} = TPM(V) + TPM(H) = 162,\\ T = 4 \\\\\n",
    "N_{feat} = N_{feat\\_intra} + N_{feat\\_inter} = 486\n",
    "\\end{equation*}\n",
    "\n",
    "In the code below we use function **chen486** which takes jpg filename and returns set of features as one-dim vector"
   ]
  },
  {
   "cell_type": "code",
   "execution_count": null,
   "metadata": {},
   "outputs": [],
   "source": [
    "STEGO_DIR = 'ad_stego/';\n",
    "COVER_DIR = 'ad_cover/';\n",
    "DATASET = 'images_db_chen.csv';\n",
    "START_PIC = 1;\n",
    "END_PIC = 1000;\n",
    "% #############################\n",
    "% ########### Prepare dataset #\n",
    "% #############################\n",
    "n = 486;\n",
    "heads = strings([1, n+2]);\n",
    "heads(1)  = \"filename\";\n",
    "for k = 1:n\n",
    "    heads(k+1) = strcat(\"feature_\", int2str(k));\n",
    "end\n",
    "heads(n+2) = \"embedded\";\n",
    "% ###################################\n",
    "% ########### Write down the header #\n",
    "% ###################################\n",
    "fid = fopen(DATASET, 'wt');\n",
    "for i=1:n+1\n",
    "    fprintf(fid, '%s,', heads(i));\n",
    "end\n",
    "fprintf(fid, '%s\\n', heads(n+2));\n",
    "% ########################################\n",
    "% ########### Scan directory, pick file, #\n",
    "% ########### extract features           #\n",
    "% ########### and put to the dataset     #\n",
    "% ########################################\n",
    "embedded = 0;\n",
    "files = dir(strcat(COVER_DIR, '*.jpg'));\n",
    "for k=START_PIC:END_PIC\n",
    "    filename = strcat(COVER_DIR, files(k).name);\n",
    "    [filepath, name, ext] = fileparts(filename);\n",
    "    features = transpose(chen486(filename));\n",
    "    fprintf(fid, '%s,', [name ext]);\n",
    "    for k = 1:n\n",
    "        fprintf(fid, '%.4f,', features(k));\n",
    "    end\n",
    "    fprintf(fid, '%d\\n', embedded);\n",
    "    disp(name);\n",
    "end\n",
    "embedded = 1;\n",
    "files = dir(strcat(STEGO_DIR, '*.jpg'));\n",
    "for k=START_PIC:END_PIC\n",
    "    filename = strcat(STEGO_DIR, files(k).name);\n",
    "    [filepath, name, ext] = fileparts(filename);\n",
    "    features = transpose(chen486(filename));\n",
    "    fprintf(fid, '%s,', [name ext]);\n",
    "    for k = 1:n\n",
    "        fprintf(fid, '%.4f,', features(k));\n",
    "    end\n",
    "    fprintf(fid, '%d\\n', embedded);\n",
    "    disp(name);\n",
    "end"
   ]
  },
  {
   "cell_type": "markdown",
   "metadata": {},
   "source": [
    "## 4. Extract features using intrablock and interblock correlation with Cartesian calibration "
   ]
  },
  {
   "cell_type": "markdown",
   "metadata": {},
   "source": [
    "Another approach was proposed in the [article](http://www.ws.binghamton.edu/fridrich/Research/calibration-color.pdf) to improve practical steganalysis. Basically, the idea of calibration is to extract cover image features proposed earlier out of stegoimage. Calibration starts with a JPEG image J1 under investigation, decompresses it into the spatial domain using inverse DCT, crops by four pixels in both directions, and recompresses the cropped image using the quantization matrix of J1. As a result, a different JPEG image, J2, is obtained (ref. image). <br>\n",
    "So, the code below calls **ccchen972** for each cover image"
   ]
  },
  {
   "cell_type": "code",
   "execution_count": null,
   "metadata": {},
   "outputs": [],
   "source": [
    "STEGO_DIR = 'ad_stego/';\n",
    "COVER_DIR = 'ad_cover/';\n",
    "DATASET = 'images_db_ccchen.csv';\n",
    "START_PIC = 1;\n",
    "END_PIC = 1000;\n",
    "% #############################\n",
    "% ########### Prepare dataset #\n",
    "% #############################\n",
    "n = 972;\n",
    "heads = strings([1, n+2]);\n",
    "heads(1)  = \"filename\";\n",
    "for k = 1:n\n",
    "    heads(k+1) = strcat(\"feature_\", int2str(k));\n",
    "end\n",
    "heads(n+2) = \"embedded\";\n",
    "% ###################################\n",
    "% ########### Write down the header #\n",
    "% ###################################\n",
    "fid = fopen(DATASET, 'wt');\n",
    "for i=1:n+1\n",
    "    fprintf(fid, '%s,', heads(i));\n",
    "end\n",
    "fprintf(fid, '%s\\n', heads(n+2));\n",
    "% ########################################\n",
    "% ########### Scan directory, pick file, #\n",
    "% ########### extract features           #\n",
    "% ########### and put to the dataset     #\n",
    "% ########################################\n",
    "embedded = 0;\n",
    "files = dir(strcat(COVER_DIR, '*.jpg'));\n",
    "for k=START_PIC:END_PIC\n",
    "    filename = strcat(COVER_DIR, files(k).name);\n",
    "    [filepath, name, ext] = fileparts(filename);\n",
    "    features = transpose(ccchen972(filename, 75));\n",
    "    fprintf(fid, '%s,', [name ext]);\n",
    "    for k = 1:n\n",
    "        fprintf(fid, '%.4f,', features(k));\n",
    "    end\n",
    "    fprintf(fid, '%d\\n', embedded);\n",
    "    disp(name);\n",
    "end\n",
    "embedded = 1;\n",
    "files = dir(strcat(STEGO_DIR, '*.jpg'));\n",
    "for k=START_PIC:END_PIC\n",
    "    filename = strcat(STEGO_DIR, files(k).name);\n",
    "    [filepath, name, ext] = fileparts(filename);\n",
    "    features = transpose(ccchen972(filename, 75));\n",
    "    fprintf(fid, '%s,', [name ext]);\n",
    "    for k = 1:n\n",
    "        fprintf(fid, '%.4f,', features(k));\n",
    "    end\n",
    "    fprintf(fid, '%d\\n', embedded);\n",
    "    disp(name);\n",
    "end"
   ]
  },
  {
   "cell_type": "markdown",
   "metadata": {},
   "source": [
    "## 5. Extract features using Cartesian Calibrated JPEG domain rich model"
   ]
  },
  {
   "cell_type": "markdown",
   "metadata": {},
   "source": [
    "The state of the art approach for steganalysis was proposed in the [article](http://dde.binghamton.edu/kodovsky/pdf/SPIE2012_Kodovsky_Steganalysis_of_JPEG_Images_Using_Rich_Models_paper.pdf) and is called rich model. The model consists of several qualitatively different parts. First, in the lines of our CF∗ features, individual DCT modes are modeled separately, so collect many of these submodels and put them together. They will be naturally diverse since they capture dependencies among different DCT coefficients.\n",
    "The second part of the proposed JRM is formed as integral statistics from the whole DCT plane. The increased\n",
    "statistical power enables one to extend the range of co-occurrence features and therefore cover a different spectrum of dependencies than the mode-specific features from the first part. The features of both parts are further diversified by modeling not only DCT coefficients themselves, but also their differences calculated in different directions."
   ]
  },
  {
   "cell_type": "markdown",
   "metadata": {},
   "source": [
    "Here we utilize **ccJRM** routine to calculate features proposed"
   ]
  },
  {
   "cell_type": "code",
   "execution_count": null,
   "metadata": {},
   "outputs": [],
   "source": [
    "STEGO_DIR = 'ad_stego/';\n",
    "COVER_DIR = 'ad_cover/';\n",
    "DATASET = 'images_db_ccjrm.csv';\n",
    "START_PIC = 1;\n",
    "END_PIC = 1000;\n",
    "% #############################\n",
    "% ########### Prepare dataset #\n",
    "% #############################\n",
    "n = 22510;\n",
    "heads = strings([1, n+2]);\n",
    "heads(1)  = \"filename\";\n",
    "for k = 1:n\n",
    "    heads(k+1) = strcat(\"feature_\", int2str(k));\n",
    "end\n",
    "heads(n+2) = \"embedded\";\n",
    "% ###################################\n",
    "% ########### Write down the header #\n",
    "% ###################################\n",
    "fid = fopen(DATASET, 'wt');\n",
    "for i=1:n+1\n",
    "    fprintf(fid, '%s,', heads(i));\n",
    "end\n",
    "fprintf(fid, '%s\\n', heads(n+2));\n",
    "% ########################################\n",
    "% ########### Scan directory, pick file, #\n",
    "% ########### extract features           #\n",
    "% ########### and put to the dataset     #\n",
    "% ########################################\n",
    "embedded = 0;\n",
    "files = dir(strcat(COVER_DIR, '*.jpg'));\n",
    "for k=START_PIC:END_PIC\n",
    "    filename = strcat(COVER_DIR, files(k).name);\n",
    "    [filepath, name, ext] = fileparts(filename);\n",
    "    C = struct2cell([ccJRM(filename, 75)]);\n",
    "    features = transpose(cat(1, C{:}));\n",
    "    fprintf(fid, '%s,', [name ext]);\n",
    "    for k = 1:n\n",
    "        fprintf(fid, '%.4f,', features(k));\n",
    "    end\n",
    "    fprintf(fid, '%d\\n', embedded);\n",
    "    disp(name);\n",
    "end\n",
    "embedded = 1;\n",
    "files = dir(strcat(STEGO_DIR, '*.jpg'));\n",
    "for k=START_PIC:END_PIC\n",
    "    filename = strcat(STEGO_DIR, files(k).name);\n",
    "    [filepath, name, ext] = fileparts(filename);\n",
    "    C = struct2cell([ccJRM(filename, 75)]);\n",
    "    features = transpose(cat(1, C{:}));\n",
    "    fprintf(fid, '%s,', [name ext]);\n",
    "    for k = 1:n\n",
    "        fprintf(fid, '%.4f,', features(k));\n",
    "    end\n",
    "    fprintf(fid, '%d\\n', embedded);\n",
    "    disp(name);\n",
    "end"
   ]
  }
 ],
 "metadata": {
  "kernelspec": {
   "display_name": "Matlab",
   "language": "matlab",
   "name": "matlab"
  },
  "language_info": {
   "codemirror_mode": "octave",
   "file_extension": ".m",
   "help_links": [
    {
     "text": "MetaKernel Magics",
     "url": "https://github.com/calysto/metakernel/blob/master/metakernel/magics/README.md"
    }
   ],
   "mimetype": "text/x-octave",
   "name": "matlab",
   "version": "0.15.2"
  }
 },
 "nbformat": 4,
 "nbformat_minor": 2
}
