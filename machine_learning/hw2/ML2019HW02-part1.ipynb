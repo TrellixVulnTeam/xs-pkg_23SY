{
 "cells": [
  {
   "cell_type": "markdown",
   "metadata": {},
   "source": [
    "# Home Assignment No. 2: Part 1 (Theory)"
   ]
  },
  {
   "cell_type": "markdown",
   "metadata": {},
   "source": [
    "In this part of the homework you are to solve several theoretical problems related to machine learning algorithms.\n",
    "* For every separate problem you can get only 0 points or maximal points for this problem. There are **NO INTERMEDIATE scores**.\n",
    "* Your solution must me **COMPLETE**, i.e. contain all required formulas/proofs/detailed explanations.\n",
    "* You must write your solution for any problem just right after the words **BEGIN SOLUTION**. Attaching pictures of your handwriting is allowed, but **highly discouraged**.\n",
    "* The are problems with \\* mark - they are not obligatory. You can get **EXTRA POINTS** for solving them.\n",
    "## $\\LaTeX$ in Jupyter\n",
    "Jupyter has constantly improving $\\LaTeX$ support. Below are the basic methods to\n",
    "write **neat, tidy, and well typeset** equations in your notebooks:\n",
    "* to write an **inline** equation use \n",
    "```markdown\n",
    "$ you latex equation here $\n",
    "```\n",
    "* to write an equation, that is **displayed on a separate line** use \n",
    "```markdown\n",
    "$$ you latex equation here $$\n",
    "```\n",
    "* to write a **block of equations** use \n",
    "```markdown\n",
    "\\begin{align}\n",
    "    left-hand-side\n",
    "        &= right-hand-side on line 1\n",
    "        \\\\\n",
    "        &= right-hand-side on line 2\n",
    "        \\\\\n",
    "        &= right-hand-side on the last line\n",
    "\\end{align}\n",
    "```\n",
    "The **ampersand** (`&`) aligns the equations horizontally and the **double backslash**\n",
    "(`\\\\`) creates a new line."
   ]
  },
  {
   "cell_type": "markdown",
   "metadata": {},
   "source": [
    "Write your theoretical derivations within such blocks:\n",
    "```markdown\n",
    "**BEGIN Solution**\n",
    "\n",
    "<!-- >>> your derivation here <<< -->\n",
    "\n",
    "**END Solution**\n",
    "```"
   ]
  },
  {
   "cell_type": "markdown",
   "metadata": {},
   "source": [
    "<br>"
   ]
  },
  {
   "cell_type": "markdown",
   "metadata": {},
   "source": [
    "## Model and feature selection"
   ]
  },
  {
   "cell_type": "markdown",
   "metadata": {},
   "source": [
    "### Task 1 (1 pt.): Information criteria"
   ]
  },
  {
   "cell_type": "markdown",
   "metadata": {},
   "source": [
    "Assume that regression model is\n",
    "$$y = \\sum_{i=1}^k \\beta_i x_i + \\varepsilon,$$\n",
    "and $\\varepsilon$ is dictributed normally: $\\varepsilon \\sim \\mathcal{N}(0, \\sigma^2)$, $\\sigma^2$ is known.\n",
    "\n",
    "Prove that the model with highest Akaike information criterion is the model with smallest Mallow's $C_p$."
   ]
  },
  {
   "cell_type": "markdown",
   "metadata": {},
   "source": [
    "**BEGIN Solution**\n",
    "\n",
    "Let $\\hat{R}_{tr}$ be training sample error and $R$ in-sample generalization error:\n",
    "$$\\hat{R}_{tr} (J) = \\frac{1}{m} \\sum_{i=1}^{m} \\Big( \\hat{y}_i (J) - y_i \\Big)^2$$\n",
    "$$R (J) = \\frac{1}{m} \\sum_{i=1}^{m} \\mathbb{E} \\Big( \\hat{y}_i (J) - y_i^* \\Big)^2 $$\n",
    "where $J \\subseteq \\{1, ..., d\\}$ is subset of selected features from $x$ we use to construct a linear model and $y^*$ is newly obtained output measurements (with newly generated noise values $\\varepsilon_i^*$)\n",
    "\n",
    "There was a theorem on the lecture stating that:\n",
    "$$ \\mbox{bias}( \\hat{R}_{tr}(J)) = \\mathbb{E}(\\hat{R}_{tr} (J)) - R(J) = - \\frac{2}{m} \\sum_{i=1}^{m} \\mbox{Cov} ( \\hat{y}_i, y_i) $$\n",
    "So inbiased gen. error will be:\n",
    "$$ R(J) \\approx \\hat{R}_{tr}(J) + \\frac{2}{m} \\sum_{i=1}^{m} \\mbox{Cov} (\\hat{y}_i, y_i) $$\n",
    "\n",
    "There was given a statement on the the lecture that in case of linear regression model:\n",
    "$$ 2 \\sum_{i=1}^{m} \\mbox{Cov} (\\hat{y}_i, y_i) \\sim 2 | J | \\sigma^2 $$\n",
    "Hence unbiased estimate of the regression risk:\n",
    "$$\\hat{R}(J) = \\hat{R}_{tr} + \\frac{2\\sigma^2}{m} |J| $$\n",
    "As $\\sigma^2$ we can use estimate $\\hat{\\sigma}^2$ based on residuals on the training set.\n",
    "\n",
    "Then we select some subset of features $J$ and minimize $\\hat{R}(J)$:\n",
    "$$ \\hat{R}(J) \\to \\min_{w_J, J} $$\n",
    "\n",
    "AIC(Akaike Information Criterion) form ($\\mathcal{L}_J$ is a log of model likelihood):\n",
    "$$ \\mathcal{L}_J - |J| \\to \\max_{w_J, J}$$\n",
    "\n",
    "In our case:\n",
    "$$ \\mathcal{L}_J (w) = m \\log \\frac{1}{\\sqrt{2 \\pi}\\sigma} - \\frac{1}{2\\sigma^2} \\sum^{m}_{i=1} \\Big (y_i - \\beta_J  x_{i,J} \\Big)^2$$\n",
    "So AIC becomes:\n",
    "$$ \\mathcal{L}_J (w) - |J| = - \\frac{m}{2\\sigma^2} \\hat{R}_{tr} (J) - |J| + C \\to \\max_{w_J, J} $$\n",
    "\n",
    "Actually both models are equivalent in case of linear regression, we can simply multiple AIC on $-\\frac{2\\sigma^2}{m} $:\n",
    "$$ - \\frac{2\\sigma^2}{m} \\Big(\\mathcal{L}_J - |J| \\Big) \\sim  \\hat{R}_{tr}(J) + \\frac{2\\sigma^2}{m} |J| $$\n",
    "As we can see left part is absolutely the same statement but negative so when first tends to max, negated first statement (which in fact second part) tends to min, q.e.d\n",
    "\n",
    "**NOTE**: the purpose of added coefficient is to get rid of difference in sign and show that both statements are the same \n",
    "\n",
    "**END Solution**"
   ]
  },
  {
   "cell_type": "markdown",
   "metadata": {},
   "source": [
    "<br>"
   ]
  },
  {
   "cell_type": "markdown",
   "metadata": {},
   "source": [
    "## Boosting: gradient boosting, adaboost\n"
   ]
  },
  {
   "cell_type": "markdown",
   "metadata": {},
   "source": [
    "### Boosting and its theory\n",
    "\n",
    "Minimization of the loss function is an optimization task, and \"Gradient Boosting\"\n",
    "is one of the many methods to perform optimization. It shoould be noted that it\n",
    "uses *greedy* approach and therefore, like greedy algorithms in CS, may produce\n",
    "results that are not *globally* optimal.\n",
    "\n",
    "$$\n",
    "\\begin{aligned}\n",
    "    & b_n(x) := \\text{the best base model from the family of the algorithms $\\mathcal{A}$} \\\\\n",
    "    & \\gamma_n(x) := \\text{scale or weight of the new model} \\\\\n",
    "    & a_N(x) = \\sum_{n=0}^N \\gamma_n b_n(x) := \\text{the final composite model}\n",
    "\\end{aligned}\n",
    "$$"
   ]
  },
  {
   "cell_type": "markdown",
   "metadata": {},
   "source": [
    "### Gradient Boosting Algorithm\n",
    "\n",
    "Consider a loss loss function $L(y, z)$ for target $y$ and prediction $z$, and let\n",
    "$(x_i, y_i)_{i=1}^l$ be our train dataset for a regression task. \n",
    "\n",
    "\n",
    "1. Initialize $a_0(x) = \\hat{z}$ with the *flat constant prediction*\n",
    "$\\hat{z} = \\arg\\min\\limits_{z \\in \\mathbb{R}} \\sum_{i=1}^l L(y_i, z)$;\n",
    "2. For $n$ from `1` to `n_boost_steps` do:\n",
    "    * Solve the current subporblem $G_n(b_n, \\gamma_n) \\to \\min\\limits_{b_{n}, \\gamma_n}$\n",
    "    where \n",
    "    $$ G_n(b, \\gamma) = \\sum_{i=1}^l L\\bigl(y_i, a_{n-1}(x_i) + \\gamma b(x_i)\\bigr) $$\n",
    "    with the following method:\n",
    "    \\begin{align}\n",
    "      & s_i = - \\frac{\\partial}{\\partial z} L(y_i, z) \\Big\\vert_{z=a_{n-1}(x_i)}\n",
    "          \\\\\n",
    "      & b_n(x) = \\arg\\min\\limits_{b\\in\\mathcal{A}}\\sum_{i=1}^l \\bigl(b(x_i) - s_i\\bigr)^2\n",
    "          \\\\\n",
    "      & \\gamma_n = \\arg\\min_\\gamma G_n(b_n, \\gamma)\n",
    "          \\\\\n",
    "      & a_n(x) = a_{n-1}(x) + \\gamma_n b_n(x)\n",
    "    \\end{align}\n",
    "3. return $a_N(x) = a_0(x) + \\sum_{n=1}^N \\gamma_n b_n(x)$"
   ]
  },
  {
   "cell_type": "markdown",
   "metadata": {},
   "source": [
    "<br>"
   ]
  },
  {
   "cell_type": "markdown",
   "metadata": {},
   "source": [
    "### Task 2 (1 pt.)\n",
    "\n",
    "At the $n$-th step of Garient Boosting ($n \\geq 1$) we compute the \"residuals\"\n",
    "$(s_i)_{i=1}^l$ and learn $x\\mapsto b_n(x)$ with a regression algorithm $\\mathcal{A}$\n",
    "applied to the dataset $(x_i, s_i)_{i=1}^l$. For the next two tasks **assume\n",
    "that we have already perfomed these substeps**.\n",
    "\n",
    "Derive the **optimal value** of $\\gamma_n$ for *MSE* loss function $L(y, z) = \\tfrac12 (y - z)^2$."
   ]
  },
  {
   "cell_type": "markdown",
   "metadata": {},
   "source": [
    "**BEGIN Solution**\n",
    "\n",
    "$$ G_n (b_n, \\gamma_n ) = \\sum_{i=1}^{l} L \\Big(y_i, a_{n-1}(x_i) + \\gamma_n b_n (x_i) \\Big) $$ \n",
    "\n",
    "$$ \\frac{\\partial{G_n(b_n, \\gamma_n)}}{\\partial{\\gamma_n}} = \\sum_{i=1}^{l} \\frac{\\partial{L}}{\\partial{x}} \\frac{\\partial{z}}{\\partial{\\gamma_n}} $$\n",
    "\n",
    "$$ \\frac{\\partial{L}}{\\partial{z}} = - (y - z), \\, \\frac{\\partial{z}}{\\partial{\\gamma_n}} = b_n(x_i) $$\n",
    "\n",
    "$$ \\frac{\\partial{G_n}}{\\partial{\\gamma_n}} = - \\sum_{i=1}^{l}\\Big( y_i - a_{n-1} (x_i) - \\gamma_n b_n(x_i) \\Big) b_n(x_i) = 0 $$\n",
    "\n",
    "$$ - \\sum_{i=1}{l} \\Big(y_i - a_{n-1} (x_i) \\Big)b_n(x_i) + \\sum_{i=1}^{l} \\gamma_n b_n^2(x_i) = 0 $$\n",
    "\n",
    "$$ \\boxed {\\gamma_n = \\frac{\\sum_{i=1}^{l} \\Big(y_i - a_{n-1} (x_i) \\Big)b_n(x_i)}{ \\sum_{i=1}^{l} b_n^2(x_i) }} $$\n",
    "**END Solution**"
   ]
  },
  {
   "cell_type": "markdown",
   "metadata": {},
   "source": [
    "<br>"
   ]
  },
  {
   "cell_type": "markdown",
   "metadata": {},
   "source": [
    "### Task 3 (1+1+1 pt.)\n",
    "\n",
    "Let $S = (x_i, y_i)_{i=1}^l$ be a sample for a classification task $y_i \\in \\{-1, +1\\}$.\n",
    "\n",
    "The **AdaBoost** algorithm can be regarded as a gradient boosting algorithm\n",
    "with the exponential loss $L(y,z) = e^{-y z}$. Consdier the state of **AdaBoost**\n",
    "at the $(T-1)$-step\n",
    "$$ G_{T-1}(b_T, \\gamma_T)\n",
    "    = \\sum_{i=1}^l L\\bigl(y_i, a_{n-1}(x_i) + \\gamma b(x_i)\\bigr)\n",
    "    = \\sum_{i=1}^l \\underbrace{\\exp(- y_i a_{T-1}(x_i))}_{w^{T-1}_i}\n",
    "        \\exp(- y_i \\gamma_T b_T(x_i))\n",
    "    \\,.\n",
    "$$"
   ]
  },
  {
   "cell_type": "markdown",
   "metadata": {},
   "source": [
    "#### Task 3.1 (1 pt.)\n",
    "\n",
    "Derive the next weights $w^T_i$ used in $G_T$ at the stage $T$ as a function\n",
    "of the learnt classifier $b_T$ and the current weights $w^{T-1}_i$;"
   ]
  },
  {
   "cell_type": "markdown",
   "metadata": {},
   "source": [
    "**BEGIN Solution**\n",
    "\n",
    "We know that:\n",
    "$$ a_T (x_i) = a_{T-1} (x_i) + \\gamma_T b_T(x_i) $$\n",
    "\n",
    "Taking into account that $w_i^T = \\exp(-y_i a_{T} (x_i))$, we will get:\n",
    "\n",
    "$$ a_T(x_i) = - \\frac{\\log(w_i^{T-1})}{y_i} + \\gamma_T b_T (x) $$\n",
    "\n",
    "Therefore:\n",
    "\n",
    "$$ w^T_i = w_i^{T-1} \\exp( -y_i \\gamma_T b_T (x_i)) $$\n",
    "\n",
    "From lecture 8 we know:\n",
    "\n",
    "$$ \\gamma_T = \\frac{1}{2} \\log \\frac{1-N_T}{N_T}; \\, N_T = \\sum_{i=1}^l \\tilde{w}^T_i \\mathbb{1}_{\\{ y_i b_T(x_i) \\leq 0 \\}}; \\tilde{w}^T_i = \\frac{w^{T-1}_i}{\\sum_{j} w^{T-1}_j} $$\n",
    "\n",
    "Finally:\n",
    "\n",
    "$$ \\boxed{ w_i^{T} = w_i^{T-1} \\exp \\Big(-\\frac{1}{2} y_i b_T(x_i) \\log \\Big( \\frac{1 - \\sum_{i=1}^l \\tilde{w}^T_i \\mathbb{1}_{\\{ y_i b_T(x_i)\\}}}{\\sum_{i=1}^l \\tilde{w}^T_i \\mathbb{1}_{\\{ y_i b_T(x_i)\\}}}\\Big)\\Big) }\n",
    "$$\n",
    "\n",
    "**END Solution**"
   ]
  },
  {
   "cell_type": "markdown",
   "metadata": {},
   "source": [
    "<br/> <!--Intentionally left blank-->"
   ]
  },
  {
   "cell_type": "markdown",
   "metadata": {},
   "source": [
    "#### Task 3.2 (1 pt.)\n",
    "\n",
    "Compute the ratio of weights $(w^T_i)_{i=1}^l$ between the normal and outlier\n",
    "samples in $S$. Propose a **formal definition of being an outlier**, and reflect\n",
    "on the value of *margin* for both.\n",
    "\n",
    "<span style=\"color:green\">**HINT**</span>: *margin* value."
   ]
  },
  {
   "cell_type": "markdown",
   "metadata": {},
   "source": [
    "**BEGIN Solution**\n",
    "\n",
    "Outliers are extreme values that fall a long way outside of the other observations.\n",
    "To derive a rule for detecting let's introduce a margin:\n",
    "\n",
    "$$ \\rho = y_i * \\hat{y}_i $$\n",
    "\n",
    "In case of binary classification with $y_i \\in \\{-1, +1\\}$ the point is an outlier when:\n",
    "\n",
    "$$ \\rho < 0 $$\n",
    "\n",
    "So, now let's derive the ratio of weights $(w^T_i)_{i=1}^l$ between the normal and outlier samples:\n",
    "\n",
    "$$ \\frac{w_i^{T, \\mbox{outlier}}}{w_i^{T, \\mbox{normal}}} =\n",
    "\\frac{\\exp(-y_i a_T(x_i^{\\mbox{outlier}}))}{\\exp(-y_i a_T(x_i^{\\mbox{normal}}))} =\n",
    "\\frac{\\exp\\Big(-y_i \\sum_j \\gamma_j b_j(x_i^{\\mbox{outlier}})\\Big)}{\\exp\\Big(-y_i \\sum_j \\gamma_j b_j(x_i^{\\mbox{normal}})\\Big)} = \\boxed{\n",
    "\\exp \\Big( -y_i  \\sum_j \\gamma_j \\Big( b_j(x_i^{\\mbox{outlier}}) - b_j(x_i^{\\mbox{normal}})\\Big)\\Big) }\n",
    "$$\n",
    "\n",
    "If the value of ratio is big then it is an outlier\n",
    "\n",
    "**END Solution**"
   ]
  },
  {
   "cell_type": "markdown",
   "metadata": {},
   "source": [
    "<br/> <!--Intentionally left blank-->"
   ]
  },
  {
   "cell_type": "markdown",
   "metadata": {},
   "source": [
    "#### Task 3.3 (1 pt.)\n",
    "\n",
    "Conclude about **sensitivity** of Adaboost to outliers."
   ]
  },
  {
   "cell_type": "markdown",
   "metadata": {},
   "source": [
    "**BEGIN Solution**\n",
    "\n",
    "Due to the fact that we have exponential loss function the value of loss function greatly increases when it is fed with an outlier which makes this sample quite distuinguishable. So AdaBoost has quite good sensitivity.\n",
    "\n",
    "**END Solution**"
   ]
  },
  {
   "cell_type": "markdown",
   "metadata": {},
   "source": [
    "<br/> <!--Intentionally left blank-->"
   ]
  },
  {
   "cell_type": "markdown",
   "metadata": {},
   "source": [
    "### Task 4 (2+1+2 pt.): Alternative objective functions."
   ]
  },
  {
   "cell_type": "markdown",
   "metadata": {},
   "source": [
    "This problem studies boosting-type algorithms defined with objective\n",
    "functions different from that of AdaBoost.We assume that the training\n",
    "data are given as m labeled examples $(x_{1},y_{1}),...,(x_{m},y_{m}) \\in X \\times \\{-1,+1\\}$.We further assume that $\\Phi$ is a strictly increasing convex and differentiable function over $\\mathbb{R}$ such that:$\\ \\forall x \\geqslant 0,\\Phi(x)\\geqslant 1 \\ and \\ \\forall x < 0,\\Phi(x) > 0$."
   ]
  },
  {
   "cell_type": "markdown",
   "metadata": {},
   "source": [
    "#### Task 4.1 (2 pt.)\n",
    "Consider the loss function $L(a) =\\sum_{i=1}^{m}\\Phi \\left( -y_{i}g(x_i) \\right)$ where $g$ is a linear combination of base classifiers, i.e., $g= \\sum_{t=1}^{T} a_t h_t$(as in\n",
    "AdaBoost). Derive a new boosting algorithm using the objective function $L$. In particular, characterize the best base classifier $h_u$ to select at each round of boosting if we use coordinate descent."
   ]
  },
  {
   "cell_type": "markdown",
   "metadata": {},
   "source": [
    "**BEGIN Solution**\n",
    "\n",
    "$$-\\sum_{i=1}^{m}y_{i}h_{u}\\left(x_{i}\\right)\\Phi^{\\prime}\\left(-y_{i}g\\left(x_{i}\\right)\\right) \\approx -\\sum_{i=1}^{m}y_{i}h_{u}\\widetilde { R } \\left( g \\right) = 0$$\n",
    "\n",
    "The last transition follows from lecture materials. Therefore, $h_u$ minimizes the error on train data.\n",
    "\n",
    "**END Solution**"
   ]
  },
  {
   "cell_type": "markdown",
   "metadata": {},
   "source": [
    "<br/> <!--Intentionally left blank-->"
   ]
  },
  {
   "cell_type": "markdown",
   "metadata": {},
   "source": [
    "#### Task 4.2 (1 pt.)\n",
    "Consider the following functions:  \n",
    "\n",
    "1. zero-one loss $\\Phi_1(−u) = 1_{u\\leqslant0}$;  \n",
    "2. least squared loss $\\Phi_2(−u) = (1 − u)^2$;  \n",
    "3. SVM loss $\\Phi_3(−u) = \\max\\{0, 1 − u\\}$;  \n",
    "4. logistic loss $\\Phi_4(−u) = \\log(1 + e^{−u})$.  \n",
    "\n",
    "Which functions satisfy the assumptions on $\\Phi$ stated earlier in this\n",
    "problem?\n",
    "\n",
    "Compute the gradient for them."
   ]
  },
  {
   "cell_type": "markdown",
   "metadata": {},
   "source": [
    "**BEGIN Solution**\n",
    "\n",
    "Only logistic loss satisfies the assumptions on $\\Phi$.\n",
    "\n",
    "$$\\frac{\\partial \\Phi_4(−u)}{\\partial u} = -\\frac{e^{-u}}{1 + e^{-u}} $$\n",
    "\n",
    "**END Solution**"
   ]
  },
  {
   "cell_type": "markdown",
   "metadata": {},
   "source": [
    "$ \\Phi_1(x) = \\mathbb{1}_{x \\ge 0}, \\Phi_{1}(-1) = 0$ doesn't satisfy\n",
    "\n",
    "$ \\Phi_2(x) = (1+x)^{2} $, is is not monotonic over\n",
    "\n",
    "$ \\Phi_3(x) = \\max(0, 1 + x), \\Phi_{1}(-1) = 0$ doesn't satisfy\n",
    "\n",
    "Only logistic loss satisfies the assumptions on $\\Phi$.\n",
    "\n",
    "$$\\frac{\\partial \\Phi_4(−u)}{\\partial u} = -\\frac{e^{-u}}{1 + e^{-u}} $$"
   ]
  },
  {
   "cell_type": "markdown",
   "metadata": {},
   "source": [
    "<br/> <!--Intentionally left blank-->"
   ]
  },
  {
   "cell_type": "markdown",
   "metadata": {},
   "source": [
    "#### Task 4.3* (2 pt.)\n",
    "For each loss function satisfying the assumptions in Task 5 formualtion, derive the\n",
    "corresponding boosting algorithm. How do the algorithm(s) differ\n",
    "from AdaBoost?"
   ]
  },
  {
   "cell_type": "markdown",
   "metadata": {},
   "source": [
    "**BEGIN Solution**\n",
    "\n",
    "\n",
    "**END Solution**"
   ]
  },
  {
   "cell_type": "markdown",
   "metadata": {},
   "source": [
    "<br/> <!--Intentionally left blank-->"
   ]
  },
  {
   "cell_type": "markdown",
   "metadata": {},
   "source": [
    "## NNs"
   ]
  },
  {
   "cell_type": "markdown",
   "metadata": {},
   "source": [
    "### Task 5. (1 pt.)\n",
    "Consider a two-layer network function of the form\n",
    "    \\begin{equation}\n",
    "    y_k(x, \\mathbf{w}) = \\sigma \\left ( \\sum_{j=1}^M w_{kj}^{(2)} \\sigma \\left(\\sum_{i=1}^D w_{ji}^{(1)}x_i + w_{j0}^{(1)}\\right)\n",
    "                               + w_{k0}^{(2)}\\right)\n",
    "    \\end{equation}\n",
    "in which the nonlinear activation functions are logistic sigmoid functions\n",
    "    \\begin{equation}\n",
    "    \\sigma(a) = (1 + \\exp(−a))^{-1}.\n",
    "    \\end{equation}\n",
    "Show that there exists an equivalent network, which computes exactly the same function but with hidden unit activation function given by hyperbolic tangent ${\\rm tanh}(a)$\n",
    "    \\begin{equation}\n",
    "    {\\rm tanh}(a) = \\frac{e^a - e^{-a}}{e^a + e^{-a}}.\n",
    "    \\end{equation}\n"
   ]
  },
  {
   "cell_type": "markdown",
   "metadata": {},
   "source": [
    "**BEGIN Solution**\n",
    "\n",
    "As we know $\\mbox{tanh}$ is rescaled $\\mbox{sigmoid}$:\n",
    "$$\\mbox{tanh}(x) = 2\\mbox{sigmoid}(2x) - 1$$ \n",
    "\n",
    "Or $\\mbox{sigmoid}$ is rescaled $\\mbox{tanh}$:\n",
    "$$\\mbox{sigmoid}(x) = \\frac{\\mbox{tahn}\\Big(\\frac{x}{2}\\Big) + 1}{2} + \\frac{1}{2} $$\n",
    "\n",
    "So to construct an equivalent network with $\\mbox{tanh}$ we can simple adjust weights of the hidden and output layers to get the same output values:\n",
    "\n",
    "$$ w^{(1)}_{ji} \\leftarrow \\frac{w^{(1)}_{ji}}{2}; \\, w_{j0}^{(1)} \\leftarrow \\frac{w_{j0}^{(1)}}{2} $$\n",
    "\n",
    "$$ w^{(2)}_{kj} \\leftarrow \\frac{w^{(2)}_{kj}}{2}; \\, w^{(2)}_{k0} \\leftarrow w^{(2)}_{k0} + \\frac{1}{2}\\sum_{j=1}^{M} w_{kj}^{(2)} $$ \n",
    "\n",
    "**END Solution**"
   ]
  },
  {
   "cell_type": "markdown",
   "metadata": {},
   "source": [
    "<br/> <!--Intentionally left blank-->"
   ]
  },
  {
   "cell_type": "markdown",
   "metadata": {},
   "source": [
    "### Task 6*. Data augmentation (2 pt.)\n",
    "One way to encourage invariance of a model w.r.t a set of transformations is to expand the training set using transformed versions of the original input patterns.\n",
    "Consider the framework for training with transformed data in the special case when the transformation is simply addition of random noise $x \\rightarrow x + \\xi$ where $\\xi$ has a Gaussian distribution with zero mean and unit variance. The error function for untransformed inputs can be written (in the infinite data set limit) in the form\n",
    "    \\begin{equation}\n",
    "    E = \\frac12 \\int \\int (y(\\mathbf{x}) - t)^2 p(t|\\mathbf{x}) p(\\mathbf{x}){\\rm d}\\mathbf{x} {\\rm d}t.\n",
    "    \\end{equation}\n",
    "If we now consider an infinite number of copies of each data point perturbed by the transformation, then the error function can be written as\n",
    "    \\begin{equation}\n",
    "    \\widetilde{E} = \\frac12 \\int\\int(y(x + \\xi) - t)^2p(t | \\mathbf{x})p(\\mathbf{x}) p(\\xi){\\rm d}\\mathbf{x}{\\rm d}t {\\rm d}\\xi\n",
    "    \\end{equation}\n",
    "Using Taylor series expansion of $y(\\mathbf{x} + \\xi)$ show that\n",
    "    \\begin{equation}\n",
    "    \\widetilde{E} \\simeq E + \\lambda \\Omega\n",
    "    \\end{equation}\n",
    "where $\\Omega$ is a regularizer which takes the form of Tikhonov regularizer\n",
    "    \\begin{equation}\n",
    "    \\Omega = \\frac12 \\int \\|\\nabla y(\\mathbf{x})\\|^2 p(\\mathbf{x}){\\rm d} \\mathbf{x}.\n",
    "    \\end{equation}\n"
   ]
  },
  {
   "cell_type": "markdown",
   "metadata": {},
   "source": [
    "**BEGIN Solution**\n",
    "\n",
    "\n",
    "**END Solution**"
   ]
  },
  {
   "cell_type": "markdown",
   "metadata": {},
   "source": [
    "<br/> <!--Intentionally left blank-->"
   ]
  }
 ],
 "metadata": {
  "kernelspec": {
   "display_name": "Python 3",
   "language": "python",
   "name": "python3"
  },
  "language_info": {
   "codemirror_mode": {
    "name": "ipython",
    "version": 3
   },
   "file_extension": ".py",
   "mimetype": "text/x-python",
   "name": "python",
   "nbconvert_exporter": "python",
   "pygments_lexer": "ipython3",
   "version": "3.6.8"
  }
 },
 "nbformat": 4,
 "nbformat_minor": 2
}
