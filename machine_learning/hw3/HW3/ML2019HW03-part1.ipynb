{
 "cells": [
  {
   "cell_type": "markdown",
   "metadata": {},
   "source": [
    "# Home Assignment No. 3: Part 1 "
   ]
  },
  {
   "cell_type": "markdown",
   "metadata": {},
   "source": [
    "In this part of the homework you are to solve several problems related to machine learning algorithms.\n",
    "* For every separate problem you can get only 0 points or maximal points for this problem. There are **NO INTERMEDIATE scores**.\n",
    "* Your solution must me **COMPLETE**, i.e. contain all required formulas/proofs/detailed explanations.\n",
    "* You must write your solution for any problem just right after the words **BEGIN SOLUTION**. Attaching pictures of your handwriting is allowed, but **highly discouraged**.\n",
    "* If you want an easy life, you have to use **BUILT-IN METHODS** of `sklearn` library instead of writing tons of our yown code. There exists a class/method for almost everything you can imagine (related to this homework).\n",
    "* To do some tasks in this part of homework, you have to write **CODE** directly inside specified places inside notebook **CELLS**.\n",
    "* In some problems you may be asked to provide short discussion of the results. In this cases you have to create **MARKDOWN** cell with your comments right after the your code cell.\n",
    "* Your **SOLUTION** notebook **MUST BE REPRODUCIBLE**, i.e. if the reviewer decides to execute `Kernel` -> `Restart Kernel and Run All Cells`, after all the computation he will obtain exactly the same solution (with all the corresponding plots) as in your uploaded notebook. For this purpose, we suggest to fix random `seed` or (better) define `random_state=` inside every algorithm that uses some pseudorandomness.\n",
    "\n",
    "* Your code must be clear to the reviewer. For this purpose, try to include neccessary comments inside the code. But remember: **GOOD CODE MUST BE SELF-EXPLANATORY** without any additional comments.\n",
    "* The are problems with \\* mark - they are not obligatory. You can get **EXTRA POINTS** for solving them.\n",
    "## $\\LaTeX$ in Jupyter\n",
    "Jupyter has constantly improving $\\LaTeX$ support. Below are the basic methods to\n",
    "write **neat, tidy, and well typeset** equations in your notebooks:\n",
    "* to write an **inline** equation use \n",
    "```markdown\n",
    "$ you latex equation here $\n",
    "```\n",
    "* to write an equation, that is **displayed on a separate line** use \n",
    "```markdown\n",
    "$$ you latex equation here $$\n",
    "```\n",
    "* to write a **block of equations** use \n",
    "```markdown\n",
    "\\begin{align}\n",
    "    left-hand-side\n",
    "        &= right-hand-side on line 1\n",
    "        \\\\\n",
    "        &= right-hand-side on line 2\n",
    "        \\\\\n",
    "        &= right-hand-side on the last line\n",
    "\\end{align}\n",
    "```\n",
    "The **ampersand** (`&`) aligns the equations horizontally and the **double backslash**\n",
    "(`\\\\`) creates a new line."
   ]
  },
  {
   "cell_type": "markdown",
   "metadata": {},
   "source": [
    "Write your theoretical derivations within such blocks:\n",
    "```markdown\n",
    "**BEGIN Solution**\n",
    "\n",
    "<!-- >>> your derivation here <<< -->\n",
    "\n",
    "**END Solution**\n",
    "```"
   ]
  },
  {
   "cell_type": "markdown",
   "metadata": {},
   "source": [
    "Please, write your implementation within the designated blocks:\n",
    "```python\n",
    "...\n",
    "### BEGIN Solution\n",
    "\n",
    "# >>> your solution here <<<\n",
    "\n",
    "### END Solution\n",
    "...\n",
    "```\n"
   ]
  },
  {
   "cell_type": "markdown",
   "metadata": {},
   "source": [
    "<br>"
   ]
  },
  {
   "cell_type": "code",
   "execution_count": 2,
   "metadata": {},
   "outputs": [],
   "source": [
    "import numpy as np\n",
    "import pandas as pd\n",
    "\n",
    "import torch\n",
    "\n",
    "%matplotlib inline\n",
    "import matplotlib.pyplot as plt"
   ]
  },
  {
   "cell_type": "markdown",
   "metadata": {},
   "source": [
    "<br>"
   ]
  },
  {
   "cell_type": "markdown",
   "metadata": {},
   "source": [
    "# Bayesian Models. GLM"
   ]
  },
  {
   "cell_type": "markdown",
   "metadata": {},
   "source": [
    "## Task 1 (1 pt.)\n",
    "\n",
    "Consider a univariate Gaussian distribution $\\mathcal{N}(x; \\mu, \\tau^{-1})$.\n",
    "Let's define Gaussian-Gamma prior for parameters $(\\mu, \\tau)$:\n",
    "\n",
    "\\begin{equation}\n",
    "    p(\\mu, \\tau)\n",
    "        = \\mathcal{N}(\\mu; \\mu_0, (\\beta \\tau)^{-1})\n",
    "            \\otimes \\text{Gamma}(\\tau; a, b)\n",
    "        \\,.\n",
    "\\end{equation}\n",
    "\n",
    "Find the posterior distribution of $(\\mu, \\tau)$ after observing $X = (x_1, \\dots, x_n)$."
   ]
  },
  {
   "cell_type": "markdown",
   "metadata": {},
   "source": [
    "**BEGIN Solution**\n",
    "\n",
    "$$\n",
    "\\mathbb{P}(\\mu, \\tau | X) = \\frac{ p(\\mu, \\tau) \\mathbb{P}(X | \\mu, \\tau) } {\\mathbb{P}(X)}\n",
    "$$ By condition:\n",
    "$$\n",
    "\\mathbb{P}(X | \\mu, \\tau) = \\prod_{i=1}^n \\mathbb{P}(x_i | \\mu, \\tau) $$\n",
    "As we know distribution of each datasample:\n",
    "$$ \\mathbb{P}(X | \\mu, \\tau) = \\prod_{i=1}^n \\frac{\\tau^{\\frac{1}{2}}}{\\sqrt{2 \\pi}} \\exp{ \\Big[-\\frac{\\tau (x_i - \\mu)^2 }{2}\\Big]} = \n",
    "\\frac{\\tau^{\\frac{1}{2}}}{\\sqrt{2 \\pi}} \\exp{ \\Big[-\\frac{\\tau}{2} \\sum_{i=1}^n(x_i - \\mu)^2 \\Big]} $$\n",
    "\n",
    "After substitution:\n",
    "$$\n",
    "\\boxed {\\mathbb{P}(\\mu, \\tau | X)\n",
    "=\n",
    "\\frac{\\mathcal{N}(\\mu; \\mu_0, (\\beta \\tau)^{-1}) \\otimes \\text{Gamma}(\\tau; a, b)\n",
    "\\cdot \\frac{\\tau^{\\frac{1}{2}}}{\\sqrt{2 \\pi}} \\exp{ \\Big[-\\frac{\\tau}{2} \\sum_{i=1}^n(x_i - \\mu)^2 \\Big]}}{\\mathbb{P}(X)}}\n",
    "$$\n",
    "\n",
    "**END Solution**"
   ]
  },
  {
   "cell_type": "markdown",
   "metadata": {},
   "source": [
    "<br>"
   ]
  },
  {
   "cell_type": "markdown",
   "metadata": {},
   "source": [
    "## Task 2 (1 + 1 + 1 = 3 pt.)\n",
    "\n",
    "Evaluate the following integral using the Laplace approximation:\n",
    "\\begin{equation}\n",
    "    x \\mapsto \\int \\sigma(w^T x) \\mathcal{N}(w; 0, \\Sigma) dw \\,,\n",
    "\\end{equation}\n",
    "for $x = \\bigl(\\tfrac23, \\tfrac16, \\tfrac16\\bigr)\\in \\mathbb{R}^3$ and \n",
    "\\begin{equation}\n",
    "    \\Sigma\n",
    "        = \\begin{pmatrix}\n",
    "             1    & -0.25 & 0.75 \\\\\n",
    "            -0.25 &  1    & 0.5  \\\\\n",
    "             0.75 &  0.5  & 2\n",
    "           \\end{pmatrix}\n",
    "        \\,.\n",
    "\\end{equation}"
   ]
  },
  {
   "cell_type": "markdown",
   "metadata": {},
   "source": [
    "### Task 2.1 (1 pt.)\n",
    "Use the Hessian matrix computed numericaly via finite differences. (Check out [Numdifftools](https://pypi.python.org/pypi/Numdifftools))"
   ]
  },
  {
   "cell_type": "code",
   "execution_count": 17,
   "metadata": {},
   "outputs": [],
   "source": [
    "import numdifftools as nd\n",
    "from scipy.optimize import minimize\n",
    "import numpy as np\n",
    "\n",
    "%matplotlib inline\n",
    "import matplotlib.pyplot as plt\n",
    "from scipy.stats import multivariate_normal"
   ]
  },
  {
   "cell_type": "code",
   "execution_count": 82,
   "metadata": {},
   "outputs": [
    {
     "name": "stdout",
     "output_type": "stream",
     "text": [
      "The value of intergral: 0.49791972000790274\n"
     ]
    }
   ],
   "source": [
    "### BEGIN Solution\n",
    "\n",
    "def p_star_w(w):\n",
    "    x = np.array([2/3, 1/6, 1/6], dtype=np.float64)\n",
    "    E = np.array([[1, -0.25, 0.75], [-0.25, 1, 0.5], [0.75, 0.5, 2]], dtype=np.float64)\n",
    "    left_part = 1/(1+np.exp(- w.T @ x))\n",
    "    right_part = multivariate_normal(mean=[0,0,0], cov=E).pdf(w)\n",
    "    return left_part * right_part\n",
    "\n",
    "def log_star_w(w):\n",
    "    return -np.log(p_star_w(w))\n",
    "\n",
    "w_0 = minimize(log_star_w, np.array([1,2,1], dtype=np.float64)).x\n",
    "Hessian = nd.Hessian(log_star_w)\n",
    "A = Hessian(w_0)\n",
    "Z_p = p_star_w(w_0) * np.sqrt((2*np.pi)**3/np.linalg.det(A))\n",
    "\n",
    "print(\"The value of intergral:\", Z_p)\n",
    "\n",
    "### END Solution"
   ]
  },
  {
   "cell_type": "markdown",
   "metadata": {},
   "source": [
    "<br>"
   ]
  },
  {
   "cell_type": "markdown",
   "metadata": {},
   "source": [
    "### Task 2.2 (1 pt.)\n",
    "Use the diagonal approximation of the Hessian computed by autodifferentiation\n",
    "in **pytorch**."
   ]
  },
  {
   "cell_type": "code",
   "execution_count": 31,
   "metadata": {},
   "outputs": [],
   "source": [
    "import torch\n",
    "from torch.autograd import Variable, grad"
   ]
  },
  {
   "cell_type": "code",
   "execution_count": 108,
   "metadata": {},
   "outputs": [
    {
     "name": "stdout",
     "output_type": "stream",
     "text": [
      "Integral value is 0.29643095\n"
     ]
    }
   ],
   "source": [
    "### BEGIN Solution\n",
    "\n",
    "def pt_p_star_w(w):\n",
    "    x = np.array([2/3, 1/6, 1/6], dtype=np.float64)\n",
    "    E = np.array([[1, -0.25, 0.75], [-0.25, 1, 0.5], [0.75, 0.5, 2]], dtype=np.float64)\n",
    "    left_part = torch.sigmoid(torch.dot(w, Variable(torch.from_numpy(x).type(torch.FloatTensor))))\n",
    "    right_part = 1 / (( 2 * np.pi )**(3/2) * np.linalg.det(E)**(1/2)) *\\\n",
    "                 torch.exp(-0.5 * w @ Variable(torch.from_numpy(np.linalg.inv(E)).type(torch.FloatTensor))@w)\n",
    "    return left_part * right_part\n",
    "\n",
    "def pt_log_star_w(w):\n",
    "    return -torch.log(pt_p_star_w(w))\n",
    "\n",
    "def hessian_diag(func, w):\n",
    "    w = Variable(torch.FloatTensor(w), requires_grad=True)\n",
    "    grad_params = torch.autograd.grad(func(w), w, create_graph=True)\n",
    "    hessian = [torch.autograd.grad(grad_params[0][i], w, create_graph=True)[0].data.numpy() \\\n",
    "               for i in range(3)]\n",
    "    return np.diagonal(hessian)*np.eye(3)\n",
    "\n",
    "A = hessian_diag(pt_log_star_w, w_0)\n",
    "\n",
    "pt_Z_p = (np.sqrt((2*np.pi)**3 / np.linalg.det(A)) *\\\n",
    "       pt_p_star_w(Variable(torch.from_numpy(w_0).type(torch.FloatTensor)))).data.numpy()\n",
    "\n",
    "print('Integral value is', pt_Z_p)\n",
    "\n",
    "### END Solution"
   ]
  },
  {
   "cell_type": "markdown",
   "metadata": {},
   "source": [
    "<br>"
   ]
  },
  {
   "cell_type": "markdown",
   "metadata": {},
   "source": [
    "### Task 2.3 (1 pt.)\n",
    "\n",
    "Compare the results comparing the `absolute errors` of the results (this is possible with Monte-Carlo estimate of the integral). Write 1-2 sentences in the results discussion."
   ]
  },
  {
   "cell_type": "code",
   "execution_count": 112,
   "metadata": {},
   "outputs": [
    {
     "name": "stdout",
     "output_type": "stream",
     "text": [
      "Laplace method: 0.00208\n",
      "Diag. Hessian Approx: 0.20357\n"
     ]
    }
   ],
   "source": [
    "from scipy.integrate import tplquad\n",
    "\n",
    "### BEGIN Solution\n",
    "\n",
    "def p_star_w_adapter(x, y, z):\n",
    "    return p_star_w(np.array([x,y,z]))\n",
    "\n",
    "acc_Z_p = tplquad(p_star_w_adapter, -10, 10, -10, 10, -10, 10)\n",
    "\n",
    "print(\"Laplace method: %.05f\" % abs(acc_Z_p[0] - Z_p))\n",
    "print(\"Diag. Hessian Approx: %.05f\" % abs(acc_Z_p[0] - pt_Z_p))\n",
    "\n",
    "### END Solution"
   ]
  },
  {
   "cell_type": "markdown",
   "metadata": {},
   "source": [
    "**BEGIN Solution**\n",
    "\n",
    "So, we have got big absolute error in the second line due to the fact that we used Hessian diagonal approximation which neglects a lot of values off the diagonal\n",
    "\n",
    "**END Solution**"
   ]
  },
  {
   "cell_type": "markdown",
   "metadata": {},
   "source": [
    "<br>"
   ]
  },
  {
   "cell_type": "markdown",
   "metadata": {},
   "source": [
    "# Gaussian Processes"
   ]
  },
  {
   "cell_type": "markdown",
   "metadata": {},
   "source": [
    "## Task 3 (1 + 2 = 3 pt.)"
   ]
  },
  {
   "cell_type": "markdown",
   "metadata": {},
   "source": [
    "### Task 3.1 (1 pt.)\n",
    "\n",
    "Assuimng the matrices $A \\in \\mathbb{R}^{n \\times n}$ and $D \\in \\mathbb{R}^{d \\times d}$\n",
    "are invertible, using **gaussian elimination** find the inverse matrix for the following\n",
    "block matrix:\n",
    "\\begin{equation}\n",
    "    \\begin{pmatrix} A & B \\\\ C & D \\end{pmatrix} \\,,\n",
    "\\end{equation}\n",
    "where $C \\in \\mathbb{R}^{d \\times n}$ and $B \\in \\mathbb{R}^{n \\times d}$."
   ]
  },
  {
   "cell_type": "markdown",
   "metadata": {},
   "source": [
    "**BEGIN Solution**\n",
    "\n",
    "**END Solution**"
   ]
  },
  {
   "cell_type": "markdown",
   "metadata": {},
   "source": [
    "<br>"
   ]
  },
  {
   "cell_type": "markdown",
   "metadata": {},
   "source": [
    "### Task 3.2 (2 pt.)\n",
    "\n",
    "Assume that the function $y(x)$, $x \\in \\mathbb{R}^d$, is a realization of the Gaussian\n",
    "Process $GP\\bigl(0; K(\\cdot, \\cdot)\\bigr)$ with $K(a, b) = \\exp({- \\gamma \\|a - b\\|_2^2}))$.\n",
    "\n",
    "Suppose two datasets were observed: **noiseless** ${D_0}$ and **noisy** ${D_1}$\n",
    "\\begin{aligned}\n",
    "    & D_0 = \\bigl(x_i, y(x_i) \\bigr)_{i=1}^{n} \\,, \\\\\n",
    "    & D_1 = \\bigl(x^\\prime_i, y(x^\\prime_i) + \\varepsilon_i \\bigr)_{i=1}^{m} \\,,\n",
    "\\end{aligned}\n",
    "where $\\varepsilon_i \\sim \\text{ iid } \\mathcal{N}(0, \\sigma^2)$, independent of process $y$.\n",
    "\n",
    "Derive the conditional distribution of $y(x) \\big\\vert_{D_0, D_1}$ at a new $x$."
   ]
  },
  {
   "cell_type": "markdown",
   "metadata": {},
   "source": [
    "**BEGIN Solution**\n",
    "\n",
    "**END Solution**"
   ]
  },
  {
   "cell_type": "markdown",
   "metadata": {},
   "source": [
    "<br>"
   ]
  },
  {
   "cell_type": "markdown",
   "metadata": {},
   "source": [
    "## Task 4 (1 + 2 = 3 pt.)"
   ]
  },
  {
   "cell_type": "markdown",
   "metadata": {},
   "source": [
    "### Task 4.1 (1 pt.)"
   ]
  },
  {
   "cell_type": "markdown",
   "metadata": {},
   "source": [
    "> In the late 1950’s Charles Keeling invented an accurate way to measure atmospheric $CO_2$ concentration and began taking regular measurements at the Mauna Loa observatory.\n"
   ]
  },
  {
   "cell_type": "markdown",
   "metadata": {},
   "source": [
    "Take `monthly_co2_mlo.csv` file, load it and prepare the data."
   ]
  },
  {
   "cell_type": "markdown",
   "metadata": {},
   "source": [
    "0. Load the `CO2 [ppm]` time series\n",
    "1. Replace $-99.99$ with **NaN** and drop the missing observations\n",
    "2. Split the time series into train and test\n",
    "3. Normalize the target value by fitting a transformation on the train\n",
    "4. Plot the resulting target against the time index"
   ]
  },
  {
   "cell_type": "code",
   "execution_count": 141,
   "metadata": {},
   "outputs": [
    {
     "data": {
      "text/html": [
       "<div>\n",
       "<style scoped>\n",
       "    .dataframe tbody tr th:only-of-type {\n",
       "        vertical-align: middle;\n",
       "    }\n",
       "\n",
       "    .dataframe tbody tr th {\n",
       "        vertical-align: top;\n",
       "    }\n",
       "\n",
       "    .dataframe thead th {\n",
       "        text-align: right;\n",
       "    }\n",
       "</style>\n",
       "<table border=\"1\" class=\"dataframe\">\n",
       "  <thead>\n",
       "    <tr style=\"text-align: right;\">\n",
       "      <th></th>\n",
       "      <th>year</th>\n",
       "      <th>seasonally adjusted [ppm]</th>\n",
       "      <th>fit [ppm]</th>\n",
       "      <th>seasonally adjusted fit [ppm]</th>\n",
       "      <th>CO2 filled [ppm]</th>\n",
       "      <th>seasonally adjusted filled [ppm]</th>\n",
       "    </tr>\n",
       "  </thead>\n",
       "  <tbody>\n",
       "    <tr>\n",
       "      <th>2</th>\n",
       "      <td>0.166667</td>\n",
       "      <td>314.43</td>\n",
       "      <td>316.19</td>\n",
       "      <td>314.90</td>\n",
       "      <td>315.70</td>\n",
       "      <td>314.43</td>\n",
       "    </tr>\n",
       "    <tr>\n",
       "      <th>3</th>\n",
       "      <td>0.250000</td>\n",
       "      <td>315.15</td>\n",
       "      <td>317.30</td>\n",
       "      <td>314.98</td>\n",
       "      <td>317.45</td>\n",
       "      <td>315.15</td>\n",
       "    </tr>\n",
       "    <tr>\n",
       "      <th>4</th>\n",
       "      <td>0.333333</td>\n",
       "      <td>314.72</td>\n",
       "      <td>317.85</td>\n",
       "      <td>315.06</td>\n",
       "      <td>317.51</td>\n",
       "      <td>314.72</td>\n",
       "    </tr>\n",
       "    <tr>\n",
       "      <th>6</th>\n",
       "      <td>0.500000</td>\n",
       "      <td>315.18</td>\n",
       "      <td>315.87</td>\n",
       "      <td>315.22</td>\n",
       "      <td>315.86</td>\n",
       "      <td>315.18</td>\n",
       "    </tr>\n",
       "    <tr>\n",
       "      <th>7</th>\n",
       "      <td>0.583333</td>\n",
       "      <td>316.18</td>\n",
       "      <td>314.00</td>\n",
       "      <td>315.29</td>\n",
       "      <td>314.93</td>\n",
       "      <td>316.18</td>\n",
       "    </tr>\n",
       "    <tr>\n",
       "      <th>8</th>\n",
       "      <td>0.666667</td>\n",
       "      <td>316.08</td>\n",
       "      <td>312.46</td>\n",
       "      <td>315.35</td>\n",
       "      <td>313.21</td>\n",
       "      <td>316.08</td>\n",
       "    </tr>\n",
       "    <tr>\n",
       "      <th>10</th>\n",
       "      <td>0.833333</td>\n",
       "      <td>315.20</td>\n",
       "      <td>313.62</td>\n",
       "      <td>315.46</td>\n",
       "      <td>313.33</td>\n",
       "      <td>315.20</td>\n",
       "    </tr>\n",
       "    <tr>\n",
       "      <th>11</th>\n",
       "      <td>0.916667</td>\n",
       "      <td>315.43</td>\n",
       "      <td>314.77</td>\n",
       "      <td>315.52</td>\n",
       "      <td>314.67</td>\n",
       "      <td>315.43</td>\n",
       "    </tr>\n",
       "    <tr>\n",
       "      <th>12</th>\n",
       "      <td>1.000000</td>\n",
       "      <td>315.55</td>\n",
       "      <td>315.61</td>\n",
       "      <td>315.57</td>\n",
       "      <td>315.58</td>\n",
       "      <td>315.55</td>\n",
       "    </tr>\n",
       "    <tr>\n",
       "      <th>13</th>\n",
       "      <td>1.083333</td>\n",
       "      <td>315.87</td>\n",
       "      <td>316.26</td>\n",
       "      <td>315.64</td>\n",
       "      <td>316.48</td>\n",
       "      <td>315.87</td>\n",
       "    </tr>\n",
       "  </tbody>\n",
       "</table>\n",
       "</div>"
      ],
      "text/plain": [
       "        year  seasonally adjusted [ppm]  fit [ppm]  \\\n",
       "2   0.166667                     314.43     316.19   \n",
       "3   0.250000                     315.15     317.30   \n",
       "4   0.333333                     314.72     317.85   \n",
       "6   0.500000                     315.18     315.87   \n",
       "7   0.583333                     316.18     314.00   \n",
       "8   0.666667                     316.08     312.46   \n",
       "10  0.833333                     315.20     313.62   \n",
       "11  0.916667                     315.43     314.77   \n",
       "12  1.000000                     315.55     315.61   \n",
       "13  1.083333                     315.87     316.26   \n",
       "\n",
       "    seasonally adjusted fit [ppm]  CO2 filled [ppm]  \\\n",
       "2                          314.90            315.70   \n",
       "3                          314.98            317.45   \n",
       "4                          315.06            317.51   \n",
       "6                          315.22            315.86   \n",
       "7                          315.29            314.93   \n",
       "8                          315.35            313.21   \n",
       "10                         315.46            313.33   \n",
       "11                         315.52            314.67   \n",
       "12                         315.57            315.58   \n",
       "13                         315.64            316.48   \n",
       "\n",
       "    seasonally adjusted filled [ppm]  \n",
       "2                             314.43  \n",
       "3                             315.15  \n",
       "4                             314.72  \n",
       "6                             315.18  \n",
       "7                             316.18  \n",
       "8                             316.08  \n",
       "10                            315.20  \n",
       "11                            315.43  \n",
       "12                            315.55  \n",
       "13                            315.87  "
      ]
     },
     "execution_count": 141,
     "metadata": {},
     "output_type": "execute_result"
    }
   ],
   "source": [
    "import pandas as pd\n",
    "from sklearn.model_selection import train_test_split\n",
    "from sklearn.preprocessing import StandardScaler\n",
    "\n",
    "### BEGIN Solution\n",
    "\n",
    "df = pd.read_csv('data/monthly_co2_mlo.csv')\n",
    "df = df.replace(-99.99, np.nan).dropna()\n",
    "df.head(10)\n",
    "y = df['CO2 [ppm]']\n",
    "X = df.drop(['CO2 [ppm]'], axis=1)\n",
    "X['year'] -= 1958\n",
    "X_train, X_test, y_train, y_test = train_test_split(X, y, random_state=0, shuffle=False, test_size=0.25)\n",
    "X.head(10)\n",
    "### END Solution"
   ]
  },
  {
   "cell_type": "code",
   "execution_count": 161,
   "metadata": {},
   "outputs": [
    {
     "data": {
      "image/png": "[encoded data removed]",
      "text/plain": [
       "<Figure size 1008x360 with 1 Axes>"
      ]
     },
     "metadata": {
      "needs_background": "light"
     },
     "output_type": "display_data"
    }
   ],
   "source": [
    "scaler = StandardScaler()\n",
    "y_train_scaled = scaler.fit_transform(y_train.values.reshape(-1, 1))\n",
    "y_test_scaled = scaler.transform(y_test.values.reshape(-1, 1))\n",
    "\n",
    "plt.figure(figsize=(14, 5))\n",
    "plt.plot(X_train['year'],  y_train_scaled)\n",
    "plt.plot(X_test['year'],  y_test_scaled)\n",
    "plt.axvline(x=0.75 * np.max([np.max(X_train['year'].values), np.max(X_test['year'].values)]), c='black', ls='-')\n",
    "plt.grid()\n",
    "plt.ylabel(r'${CO}_2$', size=18)\n",
    "plt.xlabel('Train and test split', size=18)\n",
    "plt.show()"
   ]
  },
  {
   "cell_type": "markdown",
   "metadata": {},
   "source": [
    "<br>"
   ]
  },
  {
   "cell_type": "markdown",
   "metadata": {},
   "source": [
    "### Task 4.2 (2 pt.)\n",
    "\n",
    "Use [**GPy**](https://pypi.python.org/pypi/GPy) library for training and prediction. Fit a GP and run the predict on the test. Useful kernels to combine: `GPy.kern.RBF, GPy.kern.Poly, GPy.kern.StdPeriodic, GPy.kern.White, GPy.kern.Linear`. \n",
    "\n",
    "1. Plot mean and confidence interval of the prediction. \n",
    "2. Inspect them on normality by scatter plot: plot predicted points/time series against true values. \n",
    "3. Estimate the prediction error with `r2_score`. R2-score accepted > 0.83 on test sample."
   ]
  },
  {
   "cell_type": "code",
   "execution_count": 162,
   "metadata": {},
   "outputs": [],
   "source": [
    "from GPy.models import GPRegression\n",
    "from GPy.kern import RBF, Poly, StdPeriodic, White, Linear\n",
    "from sklearn.metrics import r2_score"
   ]
  },
  {
   "cell_type": "code",
   "execution_count": 52,
   "metadata": {},
   "outputs": [
    {
     "data": {
      "image/png": "[encoded data removed]",
      "text/plain": [
       "<Figure size 864x288 with 1 Axes>"
      ]
     },
     "metadata": {
      "needs_background": "light"
     },
     "output_type": "display_data"
    }
   ],
   "source": [
    "### BEGIN Solution\n",
    "\n",
    "### END Solution"
   ]
  },
  {
   "cell_type": "code",
   "execution_count": 58,
   "metadata": {},
   "outputs": [
    {
     "data": {
      "image/png": "[encoded data removed]",
      "text/plain": [
       "<Figure size 1008x288 with 1 Axes>"
      ]
     },
     "metadata": {
      "needs_background": "light"
     },
     "output_type": "display_data"
    }
   ],
   "source": [
    "# >>> your code here <<<"
   ]
  },
  {
   "cell_type": "code",
   "execution_count": 61,
   "metadata": {},
   "outputs": [
    {
     "data": {
      "text/plain": [
       "0.839219217819017"
      ]
     },
     "execution_count": 61,
     "metadata": {},
     "output_type": "execute_result"
    }
   ],
   "source": [
    "r2_score(# >>> your code here <<<)"
   ]
  }
 ],
 "metadata": {
  "kernelspec": {
   "display_name": "Python 3",
   "language": "python",
   "name": "python3"
  },
  "language_info": {
   "codemirror_mode": {
    "name": "ipython",
    "version": 3
   },
   "file_extension": ".py",
   "mimetype": "text/x-python",
   "name": "python",
   "nbconvert_exporter": "python",
   "pygments_lexer": "ipython3",
   "version": "3.6.8"
  }
 },
 "nbformat": 4,
 "nbformat_minor": 2
}
