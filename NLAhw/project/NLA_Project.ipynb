{
 "cells": [
  {
   "cell_type": "code",
   "execution_count": 1007,
   "metadata": {},
   "outputs": [],
   "source": [
    "import numpy as np\n",
    "import warnings\n",
    "warnings.filterwarnings('ignore')\n",
    "\n",
    "\n",
    "class GSW_FHE:\n",
    "    def __init__(self, n, q, l, x, m):\n",
    "        self.n = n\n",
    "        self.q = q\n",
    "        self.x = x\n",
    "        self.m = m #int(n * np.log2(q))\n",
    "        print(\"m: \", self.m)\n",
    "        self.l = l\n",
    "        self.N = (self.n + 1) * self.l\n",
    "    def Powersof2(self, arg):\n",
    "        two_series = np.ndarray((1, self.l), buffer=np.array([2**x % self.q for x in range(self.l)]), dtype=int)\n",
    "        res = (arg @ two_series).reshape((-1, 1))\n",
    "        return res % self.q\n",
    "    def Flatten(self, A):\n",
    "        A = A % self.q\n",
    "        return self.BitDecomp(self.BitDecompInverse(A))\n",
    "    def BitDecomp(self, A):\n",
    "        for i in range(A.shape[0]):\n",
    "            rowA = A[i,:]\n",
    "            rowBin = np.zeros((1, self.l * A.shape[1]), dtype=int)\n",
    "            for pos, a_kl in enumerate(rowBin[0]):\n",
    "                rowBin[0][pos] = int(np.binary_repr(rowA[pos // self.l], width=self.l)[::-1][pos % self.l])\n",
    "            if (i == 0):\n",
    "                stored_row = rowBin\n",
    "            else:\n",
    "                stored_row = np.append(stored_row, rowBin, axis=0)\n",
    "        return stored_row\n",
    "    def BitDecompInverse(self, A):\n",
    "        def shifting(bitlist):\n",
    "            out = 0\n",
    "            for i in range(len(bitlist)):\n",
    "                out += 2**i * bitlist[i] % self.q\n",
    "            return out % self.q\n",
    "            \n",
    "        for i in range(A.shape[0]):\n",
    "            rowA = A[i,:]\n",
    "            rowAm = np.zeros((1, A.shape[1] // self.l), dtype=int)\n",
    "            for j in range(len(rowAm[0])):\n",
    "                rowAm[0][j] = shifting(rowA[j * self.l: (j + 1)* self.l]) \n",
    "            if (i == 0):\n",
    "                stored_row = rowAm\n",
    "            else:\n",
    "                stored_row = np.append(stored_row, rowAm, axis=0)\n",
    "        return stored_row\n",
    "    def SecretKeyGen(self):\n",
    "        t = np.random.randint(0, self.q, (self.n, 1))\n",
    "        s = - t % self.q\n",
    "        s = np.insert(s, 0, 1, axis=0)\n",
    "        v = self.Powersof2(s)\n",
    "        return t, v\n",
    "    def PublicKeyGen(self, t, v):\n",
    "        B = np.random.randint(0, self.q, (self.m, self.n))\n",
    "        e = np.random.randint(self.x[0], self.x[1], (self.m, 1))\n",
    "        print(\"Error norm: \", np.linalg.norm(e, np.inf))\n",
    "        print(\"q/4: \", self.q / 4)\n",
    "        b = (B @ t + e).astype(int) % self.q\n",
    "        A = np.append(b, B, axis=1)\n",
    "        return A\n",
    "    def Enc(self, A, u):\n",
    "        R = np.random.randint(0, 2, size=(self.N, self.m))\n",
    "        C = self.Flatten(u * np.eye(self.N).astype(int) + self.BitDecomp(R @ A))\n",
    "        return C\n",
    "    def Dec(self, v, C):    \n",
    "        for i in range(0, len(v)):\n",
    "            if (v[i] > self.q / 4 and v[i] <= self.q / 2):\n",
    "                break\n",
    "        x = np.dot(C[i], v) % self.q\n",
    "        print(\"x, v[i]: \", x, v[i])\n",
    "        u = float(x) / v[i]\n",
    "        return x, v[i]\n",
    "        if (u >= (1 / 2)):\n",
    "            return 1\n",
    "        else:\n",
    "            return 0\n",
    "    def MPDec(self, v, C):\n",
    "        i = self.l - 2\n",
    "        x = np.dot(C[i], v) % self.q\n",
    "        print(\"x: \", x)\n",
    "        u = (float(x) / v[i])\n",
    "        print(\"u: \", u)\n",
    "        if (u >= (1 / 2)):\n",
    "            return 1\n",
    "        else:\n",
    "            return 0"
   ]
  },
  {
   "cell_type": "code",
   "execution_count": 991,
   "metadata": {},
   "outputs": [
    {
     "name": "stdout",
     "output_type": "stream",
     "text": [
      "m:  5\n",
      "Error norm:  1.0\n",
      "q/4:  4194304.0\n"
     ]
    }
   ],
   "source": [
    "fhe = GSW_FHE(n=10, q=2**24, l=25, x=(0, 2), m=5)\n",
    "t, v = fhe.SecretKeyGen()\n",
    "A = fhe.PublicKeyGen(t, v)"
   ]
  },
  {
   "cell_type": "code",
   "execution_count": 966,
   "metadata": {},
   "outputs": [
    {
     "name": "stdout",
     "output_type": "stream",
     "text": [
      "x:  [3]\n",
      "u:  [3.57627869e-07]\n",
      "0\n"
     ]
    }
   ],
   "source": [
    "C = fhe.Enc(A, 0)\n",
    "u = fhe.MPDec(v, C)\n",
    "print(u)"
   ]
  },
  {
   "cell_type": "code",
   "execution_count": 839,
   "metadata": {},
   "outputs": [
    {
     "name": "stdout",
     "output_type": "stream",
     "text": [
      "197.0\n",
      "4236247320.0\n",
      "x:  [1073742120]\n",
      "u:  [1.00000028]\n",
      "1\n"
     ]
    }
   ],
   "source": [
    "C1 = fhe.Enc(A, 0)\n",
    "print(np.linalg.norm(C1, np.inf))\n",
    "C2 = fhe.Enc(A, 0)\n",
    "print(np.linalg.norm((np.eye(fhe.N).astype(int) + C1 @ C2) @ v % fhe.q, np.inf))\n",
    "Cout = fhe.Flatten(np.eye(fhe.N).astype(int) + (C1 @ C2))\n",
    "u = fhe.MPDec(v, Cout)\n",
    "print(u)"
   ]
  },
  {
   "cell_type": "code",
   "execution_count": 840,
   "metadata": {},
   "outputs": [
    {
     "name": "stdout",
     "output_type": "stream",
     "text": [
      "x:  [2147523876]\n",
      "u:  [2.00003747]\n",
      "1\n"
     ]
    }
   ],
   "source": [
    "Cinv = fhe.Flatten(np.eye(fhe.N).astype(int) + Cout @ Cout)\n",
    "u2 = fhe.MPDec(v, Cinv)\n",
    "print(u2)"
   ]
  },
  {
   "cell_type": "code",
   "execution_count": 908,
   "metadata": {},
   "outputs": [],
   "source": [
    "def nand(C1, C2):\n",
    "    global fhe\n",
    "    global count\n",
    "    count += 1\n",
    "    Cout = fhe.Flatten(np.eye(fhe.N).astype(int) + C1 @ C2)\n",
    "    return Cout\n",
    "\n",
    "def nand2(a, b):\n",
    "    global count\n",
    "    count += 1\n",
    "    return 1 - a * b\n",
    "\n",
    "def xor2(a, b):\n",
    "    Cout = fhe.Flatten(fhe.Flatten(a + b) + fhe.Flatten(2 * fhe.Flatten(a @ b)))\n",
    "    return Cout"
   ]
  },
  {
   "cell_type": "code",
   "execution_count": 937,
   "metadata": {},
   "outputs": [],
   "source": [
    "count = 0\n",
    "\n",
    "def bitfield(n, w=4):\n",
    "    return [int(digit) for digit in reversed(np.binary_repr(n, width=w))] # [2:] to chop off the \"0b\" part \n",
    "\n",
    "def txor(a, b):\n",
    "    #t1 = nand(a, b)\n",
    "    #t2 = nand(a, t1)\n",
    "    #t3 = nand(t1, b)\n",
    "    return xor2(a, b), nand(a, b)\n",
    "\n",
    "def _and(a):\n",
    "    return inv(nand(a, b))\n",
    "\n",
    "def inv(a):\n",
    "    return nand(a,a)\n",
    "\n",
    "def zero(a):\n",
    "    #return inv(nand(nand(a,a), a))\n",
    "    return xor2(a,a)\n",
    "\n",
    "def one(a):\n",
    "    return inv(zero(a))\n",
    "\n",
    "def lshift(a,l):\n",
    "    out = a[:-l] + [zero(a[0]) for _ in range(len(a))]\n",
    "\n",
    "def bitvec(a, bit):\n",
    "    for i in range(len(a)):\n",
    "        a[i] = _and(a, bit)\n",
    "    return a\n",
    "    \n",
    "def bitadd(cin, a, b):\n",
    "    s1, t1 = txor(a, b)\n",
    "    out, t2 = txor(s1, cin)\n",
    "\n",
    "    return out, nand(t1, t2)\n",
    "\n",
    "def add(la, lb):\n",
    "    l = len(la)\n",
    "    c = zero(la[0])\n",
    "    out = [np.zeros_like(la[0]) for _ in range(l)]\n",
    "    for i in range(0, l):\n",
    "        out[i], c = bitadd(c, la[i], lb[i])\n",
    "        #print(out[i], c)\n",
    "\n",
    "    return out"
   ]
  },
  {
   "cell_type": "code",
   "execution_count": 992,
   "metadata": {},
   "outputs": [],
   "source": [
    "def num2ciphervec(A, n):\n",
    "    bits = bitfield(n, w=4)\n",
    "    return [fhe.Enc(A, u) for u in bits]"
   ]
  },
  {
   "cell_type": "code",
   "execution_count": 993,
   "metadata": {},
   "outputs": [],
   "source": [
    "a, b = 1,1\n",
    "\n",
    "avec = num2ciphervec(A, a)\n",
    "bvec = num2ciphervec(A, b)"
   ]
  },
  {
   "cell_type": "code",
   "execution_count": 994,
   "metadata": {},
   "outputs": [
    {
     "name": "stdout",
     "output_type": "stream",
     "text": [
      "12\n"
     ]
    }
   ],
   "source": [
    "count = 0\n",
    "out = add(avec, bvec)\n",
    "print(count)\n",
    "#out, out2 = bitadd(avec[0], bvec[0], avec[0])\n",
    "#print(out)"
   ]
  },
  {
   "cell_type": "code",
   "execution_count": 997,
   "metadata": {},
   "outputs": [
    {
     "name": "stdout",
     "output_type": "stream",
     "text": [
      "x, v[i]:  [69149] [8388608]\n",
      "x, v[i]:  [13380726] [8388608]\n",
      "x, v[i]:  [9301642] [8388608]\n",
      "x, v[i]:  [362888] [8388608]\n",
      "[0, 1, 1, 0]\n"
     ]
    }
   ],
   "source": [
    "u = [fhe.Dec(v, _) for _ in out]\n",
    "print(u)"
   ]
  },
  {
   "cell_type": "code",
   "execution_count": 990,
   "metadata": {},
   "outputs": [
    {
     "name": "stdout",
     "output_type": "stream",
     "text": [
      "x:  [0]\n",
      "u:  [0.]\n",
      "0\n"
     ]
    }
   ],
   "source": [
    "a = fhe.Enc(A, 1)\n",
    "b = fhe.Enc(A, 1)\n",
    "\n",
    "Cout = xor2(a, b)\n",
    "cout_d = fhe.MPDec(v, Cout)\n",
    "print(cout_d)"
   ]
  },
  {
   "cell_type": "code",
   "execution_count": 1040,
   "metadata": {},
   "outputs": [],
   "source": [
    "def nand_error(iterations):\n",
    "    error = []\n",
    "    fhe_local = GSW_FHE(n=10, q=2**24, l=25, x=(0, 2), m=5)\n",
    "    t, v = fhe_local.SecretKeyGen()\n",
    "    A = fhe_local.PublicKeyGen(t, v)\n",
    "    Cout = fhe_local.Enc(A, 1)\n",
    "    xor_value = 1\n",
    "    for i in range(iterations):\n",
    "        print(\"Iteration number: \", i)\n",
    "        xor_value = 1 ^ xor_value\n",
    "        Cout = fhe_local.Flatten(np.eye(fhe_local.N).astype(int) + Cout @ Cout)\n",
    "        x, vi = fhe_local.Dec(v, Cout)\n",
    "        if (xor_value == 1):\n",
    "            error.append(abs(vi - x)/abs(vi))\n",
    "        else:\n",
    "            error.append(abs(x)/abs(vi))\n",
    "    return error"
   ]
  },
  {
   "cell_type": "code",
   "execution_count": 1031,
   "metadata": {},
   "outputs": [
    {
     "name": "stdout",
     "output_type": "stream",
     "text": [
      "m:  5\n",
      "Error norm:  1.0\n",
      "q/4:  4194304.0\n",
      "Iteration number:  0\n",
      "x, v[i]:  [190] [8388608]\n",
      "Iteration number:  1\n",
      "x, v[i]:  [8415400] [8388608]\n",
      "Iteration number:  2\n",
      "x, v[i]:  [3659475] [8388608]\n",
      "Iteration number:  3\n",
      "x, v[i]:  [12209404] [8388608]\n",
      "Iteration number:  4\n",
      "x, v[i]:  [16735212] [8388608]\n",
      "[array([2.2649765e-05]), array([0.00319386]), array([0.43624341]), array([0.45547438]), array([1.99499273])]\n"
     ]
    },
    {
     "data": {
      "text/plain": [
       "Text(0.5, 1.0, 'Errors')"
      ]
     },
     "execution_count": 1031,
     "metadata": {},
     "output_type": "execute_result"
    },
    {
     "data": {
      "image/png": "[encoded data removed]",
      "text/plain": [
       "<Figure size 1008x504 with 1 Axes>"
      ]
     },
     "metadata": {
      "needs_background": "light"
     },
     "output_type": "display_data"
    }
   ],
   "source": [
    "import matplotlib.pyplot as plt\n",
    "%matplotlib inline\n",
    "\n",
    "errors = nand_error(iterations=5)\n",
    "print(errors)"
   ]
  },
  {
   "cell_type": "code",
   "execution_count": 1039,
   "metadata": {},
   "outputs": [
    {
     "data": {
      "text/plain": [
       "Text(0.5, 1.0, 'Errors for NAND gate (n=10, l=24, x=[0,1], m=5)')"
      ]
     },
     "execution_count": 1039,
     "metadata": {},
     "output_type": "execute_result"
    },
    {
     "data": {
      "image/png": "[encoded data removed]",
      "text/plain": [
       "<Figure size 1008x504 with 1 Axes>"
      ]
     },
     "metadata": {
      "needs_background": "light"
     },
     "output_type": "display_data"
    }
   ],
   "source": [
    "from matplotlib.ticker import MaxNLocator\n",
    "\n",
    "ax = plt.figure(figsize=(14, 7)).gca()\n",
    "plt.xlabel(\"Iteration number(depth of layers)\", size=14)\n",
    "plt.ylabel(\"Relative error\", size=14)\n",
    "ax.xaxis.set_major_locator(MaxNLocator(integer=True))\n",
    "plt.semilogy(list(range(5)), errors)\n",
    "plt.grid()\n",
    "plt.title('Errors for NAND gate (n=10, l=24, x=[0,1], m=5)', size=16)"
   ]
  },
  {
   "cell_type": "code",
   "execution_count": 1055,
   "metadata": {},
   "outputs": [],
   "source": [
    "def nand_error_2v(iterations):\n",
    "    error = []\n",
    "    fhe_local = GSW_FHE(n=10, q=2**24, l=25, x=(0, 2), m=5)\n",
    "    t, v = fhe_local.SecretKeyGen()\n",
    "    A = fhe_local.PublicKeyGen(t, v)\n",
    "    def_val = fhe_local.Enc(A, 1)\n",
    "    Cout = fhe_local.Enc(A, 0)\n",
    "    xor_value = 1\n",
    "    for i in range(iterations):\n",
    "        print(\"Iteration number: \", i)\n",
    "        xor_value = 1\n",
    "        Cout = fhe_local.Flatten(np.eye(fhe_local.N).astype(int) + def_val @ Cout)\n",
    "        x, vi = fhe_local.Dec(v, Cout)\n",
    "        if (xor_value == 1):\n",
    "            error.append(abs(vi - x)/abs(vi))\n",
    "        else:\n",
    "            error.append(abs(x)/abs(vi))\n",
    "    return error"
   ]
  },
  {
   "cell_type": "code",
   "execution_count": 1056,
   "metadata": {},
   "outputs": [
    {
     "name": "stdout",
     "output_type": "stream",
     "text": [
      "m:  5\n",
      "Error norm:  1.0\n",
      "q/4:  4194304.0\n",
      "Iteration number:  0\n",
      "x, v[i]:  [8388859] [8388608]\n",
      "Iteration number:  1\n",
      "x, v[i]:  [33003] [8388608]\n",
      "Iteration number:  2\n",
      "x, v[i]:  [12545835] [8388608]\n",
      "Iteration number:  3\n",
      "x, v[i]:  [6213207] [8388608]\n",
      "Iteration number:  4\n",
      "x, v[i]:  [13621052] [8388608]\n",
      "[array([2.99215317e-05]), array([0.99606574]), array([0.49558008]), array([0.25932801]), array([0.62375593])]\n"
     ]
    }
   ],
   "source": [
    "errors_2v = nand_error_2v(iterations=5)\n",
    "print(errors_2v)"
   ]
  },
  {
   "cell_type": "code",
   "execution_count": 1057,
   "metadata": {},
   "outputs": [
    {
     "data": {
      "text/plain": [
       "Text(0.5, 1.0, 'Errors for NAND gate (n=10, l=24, x=[0,1], m=5)')"
      ]
     },
     "execution_count": 1057,
     "metadata": {},
     "output_type": "execute_result"
    },
    {
     "data": {
      "image/png": "[encoded data removed]",
      "text/plain": [
       "<Figure size 1008x504 with 1 Axes>"
      ]
     },
     "metadata": {
      "needs_background": "light"
     },
     "output_type": "display_data"
    }
   ],
   "source": [
    "ax = plt.figure(figsize=(14, 7)).gca()\n",
    "plt.xlabel(\"Iteration number(depth of layers)\", size=14)\n",
    "plt.ylabel(\"Relative error\", size=14)\n",
    "ax.xaxis.set_major_locator(MaxNLocator(integer=True))\n",
    "plt.semilogy(list(range(5)), errors_2v)\n",
    "plt.grid()\n",
    "plt.title('Errors for NAND gate (n=10, l=24, x=[0,1], m=5)', size=16)"
   ]
  },
  {
   "cell_type": "code",
   "execution_count": null,
   "metadata": {},
   "outputs": [],
   "source": []
  }
 ],
 "metadata": {
  "kernelspec": {
   "display_name": "Python 3",
   "language": "python",
   "name": "python3"
  },
  "language_info": {
   "codemirror_mode": {
    "name": "ipython",
    "version": 3
   },
   "file_extension": ".py",
   "mimetype": "text/x-python",
   "name": "python",
   "nbconvert_exporter": "python",
   "pygments_lexer": "ipython3",
   "version": "3.6.6"
  }
 },
 "nbformat": 4,
 "nbformat_minor": 2
}
